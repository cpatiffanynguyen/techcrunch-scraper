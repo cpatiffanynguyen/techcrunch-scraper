{
  "nbformat": 4,
  "nbformat_minor": 0,
  "metadata": {
    "colab": {
      "provenance": [],
      "include_colab_link": true
    },
    "kernelspec": {
      "name": "python3",
      "display_name": "Python 3"
    },
    "language_info": {
      "name": "python"
    }
  },
  "cells": [
    {
      "cell_type": "markdown",
      "metadata": {
        "id": "view-in-github",
        "colab_type": "text"
      },
      "source": [
        "<a href=\"https://colab.research.google.com/github/cpatiffanynguyen/techcrunch-scraper/blob/main/USDA_CO.ipynb\" target=\"_parent\"><img src=\"https://colab.research.google.com/assets/colab-badge.svg\" alt=\"Open In Colab\"/></a>"
      ]
    },
    {
      "cell_type": "code",
      "source": [
        "pip install PyPDF2"
      ],
      "metadata": {
        "colab": {
          "base_uri": "https://localhost:8080/"
        },
        "id": "5KW3OZZZTvRA",
        "outputId": "047c4524-4d2b-4fc2-99d6-ea21ad11753c"
      },
      "execution_count": null,
      "outputs": [
        {
          "output_type": "stream",
          "name": "stdout",
          "text": [
            "Collecting PyPDF2\n",
            "  Downloading pypdf2-3.0.1-py3-none-any.whl (232 kB)\n",
            "\u001b[2K     \u001b[90m━━━━━━━━━━━━━━━━━━━━━━━━━━━━━━━━━━━━━━━━\u001b[0m \u001b[32m232.6/232.6 kB\u001b[0m \u001b[31m2.6 MB/s\u001b[0m eta \u001b[36m0:00:00\u001b[0m\n",
            "\u001b[?25hInstalling collected packages: PyPDF2\n",
            "Successfully installed PyPDF2-3.0.1\n"
          ]
        }
      ]
    },
    {
      "cell_type": "code",
      "source": [
        "from google.colab import drive\n",
        "drive.mount('/content/drive')"
      ],
      "metadata": {
        "colab": {
          "base_uri": "https://localhost:8080/"
        },
        "id": "T0KdPiMOTzt4",
        "outputId": "fdf51508-22fb-4fe9-d3bd-e6ea40b17824"
      },
      "execution_count": null,
      "outputs": [
        {
          "output_type": "stream",
          "name": "stdout",
          "text": [
            "Mounted at /content/drive\n"
          ]
        }
      ]
    },
    {
      "cell_type": "code",
      "execution_count": null,
      "metadata": {
        "id": "YvVZRc5YuyGq"
      },
      "outputs": [],
      "source": [
        "import requests\n",
        "from requests.exceptions import ConnectionError\n",
        "from bs4 import BeautifulSoup\n",
        "import pandas as pd\n",
        "from PyPDF2 import PdfReader\n",
        "import io"
      ]
    },
    {
      "cell_type": "markdown",
      "source": [
        "#List of PDF URLs\n"
      ],
      "metadata": {
        "id": "fVcDehYfBxeq"
      }
    },
    {
      "cell_type": "code",
      "source": [],
      "metadata": {
        "id": "a7YpOxwZax2Z"
      },
      "execution_count": null,
      "outputs": []
    },
    {
      "cell_type": "markdown",
      "source": [
        "##Colorado"
      ],
      "metadata": {
        "id": "m6-WQl7rJlJS"
      }
    },
    {
      "cell_type": "code",
      "source": [
        "pdf_urls_string = \"\"\"https://extension.colostate.edu/docs/pubs/insect/ihm-bee.pdf\n",
        "https://sam.extension.colostate.edu/wp-content/uploads/sites/2/2017/04/sam-irr-guide.pdf\n",
        "https://bookstore.ksre.ksu.edu/pubs/MF3523.pdf\n",
        "https://extension.colostate.edu/wp-content/uploads/2022/02/Avian-Health-Deliverable-Draft98.pdf\n",
        "https://extension.colostate.edu/wp-content/uploads/2022/02/Dead-Bird-Now-What-Infographic-w-Check-List1.pdf\n",
        "https://sam.extension.colostate.edu/wp-content/uploads/sites/2/2016/07/forage-guide.pdf\n",
        "https://sam.extension.colostate.edu/wp-content/uploads/sites/2/2018/07/GrazingGuide.pdf\n",
        "https://extension.colostate.edu/wp-content/uploads/2022/11/FactSheet_E-Colorado-Grassland-Birds-Grazing_12-2022.pdf\n",
        "https://sam.extension.colostate.edu/wp-content/uploads/sites/2/2017/08/LivestockManagementintheMountains2017.pdf\n",
        "https://extension.colostate.edu/wp-content/uploads/2023/03/Composting-Manual-2023_Web-FINAL.pdf\n",
        "https://sam.extension.colostate.edu/wp-content/uploads/sites/2/2018/07/manure-mgt.pdf\n",
        "https://extension.colostate.edu/docs/pubs/crops/xcm178.pdf\n",
        "https://extension.colostate.edu/docs/pubs/crops/xcm178.pdf\n",
        "https://extension.colostate.edu/docs/pubs/crops/xcm178.pdf\n",
        "https://extension.colostate.edu/docs/pubs/garden/xcm221.pdf\n",
        "https://extension.colostate.edu/docs/pubs/garden/xcm221.pdf\n",
        "https://extension.colostate.edu/docs/pubs/garden/xcm221.pdf\n",
        "https://webdoc.agsci.colostate.edu/soiltestinglab/soilsample_horticulture.pdf\n",
        "https://webdoc.agsci.colostate.edu/soiltestinglab/Forage_online_submittal_form.pdf\n",
        "https://agsci.colostate.edu/soiltestinglab/wp-content/uploads/sites/98/2022/01/Soil-Submittal-Form-for-Horticulture-Fillable.pdf\n",
        "https://agsci.colostate.edu/soiltestinglab/wp-content/uploads/sites/98/2022/01/Submittal-Form-for-Water-Fillable.pdf\n",
        "https://extension.colostate.edu/docs/pubs/insect/ihm-bee.pdf\n",
        "https://nativebeewatch.files.wordpress.com/2018/03/fieldguide_12march2018_lowrez.pdf\n",
        "https://extension.colostate.edu/wp-content/uploads/2022/03/BeginnerBeeFieldGuide_LowRezWeb_28Feb2022.pdf\n",
        "https://extension.colostate.edu/docs/pubs/insect/ihm-bee.pdf\n",
        "https://nativebeewatch.files.wordpress.com/2018/03/fieldguide_12march2018_lowrez.pdf\n",
        "https://extension.colostate.edu/wp-content/uploads/2022/03/BeginnerBeeFieldGuide_LowRezWeb_28Feb2022.pdf\n",
        "https://extension.colostate.edu/docs/pubs/insect/ihm-bee.pdf\n",
        "https://nativebeewatch.files.wordpress.com/2018/03/fieldguide_12march2018_lowrez.pdf\n",
        "https://extension.colostate.edu/docs/pubs/insect/ihm-bee.pdf\n",
        "https://extension.colostate.edu/docs/pubs/insect/ihm-bee.pdf\n",
        "https://sam.extension.colostate.edu/wp-content/uploads/sites/2/2016/07/forage-guide.pdf\n",
        "https://sam.extension.colostate.edu/wp-content/uploads/sites/2/2018/07/GrazingGuide.pdf\n",
        "https://extension.colostate.edu/docs/pubs/native/FrontRangeSm.pdf\n",
        "https://extension.colostate.edu/docs/pubs/native/FrontRange.pdf\n",
        "https://extension.colostate.edu/docs/pubs/native/MountainsSm.pdf\n",
        "https://extension.colostate.edu/docs/pubs/native/Mountains.pdf\n",
        "https://extension.colostate.edu/docs/pubs/native/PrairieSm.pdf\n",
        "https://extension.colostate.edu/docs/pubs/native/Prairie.pdf\n",
        "https://extension.colostate.edu/docs/pubs/native/SESm.pdf\n",
        "https://extension.colostate.edu/docs/pubs/native/SE.pdf\n",
        "https://extension.colostate.edu/docs/pubs/native/WestSlopeSm.pdf\n",
        "https://extension.colostate.edu/docs/pubs/native/WestSlope.pdf\n",
        "https://extension.colostate.edu/wp-content/uploads/2022/01/sources-native-plants-2022.pdf\n",
        "https://extension.colostate.edu/docs/pubs/crops/xcm179.pdf\n",
        "https://extension.colostate.edu/docs/pubs/garden/xcm221.pdf\n",
        "https://extension.colostate.edu/docs/pubs/garden/xcm221.pdf\n",
        "https://extension.colostate.edu/docs/pubs/garden/xcm221.pdf\n",
        "https://extension.colostate.edu/docs/pubs/spanish/09329.pdf\n",
        "https://extension.colostate.edu/docs/pubs/spanish/09341.pdf\n",
        "https://extension.colostate.edu/wp-content/uploads/2023/07/Roasting-Chile-Peppers.pdf\n",
        "https://extension.colostate.edu/docs/pubs/spanish/09380.pdf\n",
        "https://extension.colostate.edu/docs/pubs/spanish/09377.pdf\n",
        "https://extension.colostate.edu/docs/pubs/spanish/09367.pdf\n",
        "https://extension.colostate.edu/docs/pubs/spanish/09386.pdf\n",
        "https://extension.colostate.edu/docs/pubs/spanish/09334.pdf\n",
        "https://extension.colostate.edu/docs/pubs/spanish/09318.pdf\n",
        "https://extension.colostate.edu/wp-content/uploads/2022/01/Defenders-of-Wildlife-Conflict-Reduction.pdf\n",
        "https://extension.colostate.edu/wp-content/uploads/2022/01/livestock_and_wolves.pdf\n",
        "https://extension.colostate.edu/wp-content/uploads/2022/01/PC-Tool-Resource-Guide.pdf\n",
        "https://extension.colostate.edu/wp-content/uploads/2022/01/ReducingConflict_WLA-Guide_low-res-1.pdf\n",
        "https://extension.colostate.edu/wp-content/uploads/2022/01/Tool-Kit-Grizzly-Bear-Conflict-Reduction-2017.pdf\n",
        "https://extension.colostate.edu/wp-content/uploads/2022/01/Wilson-et-al.-2017-Learning-to-live-with-wolves-Blackfoot-Valley.pdf\n",
        "https://extension.colostate.edu/wp-content/uploads/2022/01/WolfResourcesGuide.pdf\n",
        "https://extension.colostate.edu/wp-content/uploads/2022/01/bro-livestock-protection-dog-public.pdf\n",
        "https://extension.colostate.edu/wp-content/uploads/2022/01/A-Wyoming-Landowners-Handbook-to-Fences-and-Wildlife_2nd-Edition_-lo-res.pdf\n",
        "https://extension.colostate.edu/wp-content/uploads/2022/01/FladryManual.pdf\n",
        "https://extension.colostate.edu/wp-content/uploads/2022/01/installing-turbo-fladry-guide-ib.pdf\n",
        "https://extension.colostate.edu/wp-content/uploads/2022/01/carcus-mgt.pdf\n",
        "https://extension.colostate.edu/wp-content/uploads/2022/01/Review-of-livestock-compensation-programs-052620.pdf\n",
        "https://extension.colostate.edu/wp-content/uploads/2023/10/Extension-Education-Breck-Wolf-behavior-and-mgt.pdf\n",
        "https://extension.colostate.edu/wp-content/uploads/2023/10/Extension-Education-Collins-WLA_RCPP_Extension.pdf\n",
        "https://extension.colostate.edu/wp-content/uploads/2023/10/Extension-Education-Collins-WLA_WWC_4Cs.pdf\n",
        "https://extension.colostate.edu/wp-content/uploads/2023/10/Extension-Education-CPW-Wolf-Livestock-Compensation.pdf\n",
        "https://extension.colostate.edu/wp-content/uploads/2023/10/Extension-Education-Gary-Cattle-records.pdf\n",
        "https://extension.colostate.edu/wp-content/uploads/2023/10/Extension-Education-Hoag-Economic-value-of-wolves.pdf\n",
        "https://extension.colostate.edu/wp-content/uploads/2023/10/Extension-Education-Stanko-Rancher-Community-dialogs.pdf\n",
        "https://extension.colostate.edu/wp-content/uploads/2023/10/Extension-Education-Vail-Rocky-Mt-Wolf-Project.pdf\n",
        "https://extension.colostate.edu/wp-content/uploads/2023/10/Extension-Education-Wilson-Blackfoot-Challenge.pdf\n",
        "https://sam.extension.colostate.edu/wp-content/uploads/sites/2/2017/04/sam-irr-guide.pdf\n",
        "https://extension.colostate.edu/docs/pubs/insect/ihm-bee.pdf\n",
        "https://extension.colostate.edu/wp-content/uploads/2022/10/Fire-Blight_2.907-2__OConnor-Zentz_10-22.pdf\n",
        "https://extension.colostate.edu/docs/pubs/spanish/07001.pdf\n",
        "https://extension.colostate.edu/docs/pubs/native/FrontRangeSm.pdf\n",
        "https://extension.colostate.edu/docs/pubs/native/FrontRange.pdf\n",
        "https://extension.colostate.edu/docs/pubs/native/MountainsSm.pdf\n",
        "https://extension.colostate.edu/docs/pubs/native/Mountains.pdf\n",
        "https://extension.colostate.edu/docs/pubs/native/PrairieSm.pdf\n",
        "https://extension.colostate.edu/docs/pubs/native/Prairie.pdf\n",
        "https://extension.colostate.edu/docs/pubs/native/SESm.pdf\n",
        "https://extension.colostate.edu/docs/pubs/native/SE.pdf\n",
        "https://extension.colostate.edu/docs/pubs/native/WestSlopeSm.pdf\n",
        "https://extension.colostate.edu/docs/pubs/native/WestSlope.pdf\n",
        "\"\"\""
      ],
      "metadata": {
        "id": "tn_NUpE_FyPF"
      },
      "execution_count": null,
      "outputs": []
    },
    {
      "cell_type": "code",
      "source": [
        "import requests\n",
        "\n",
        "def download_pdfs(pdf_urls):\n",
        "  \"\"\"Downloads PDFs from a list of URLs and saves them locally.\"\"\"\n",
        "  for url in pdf_urls:\n",
        "    response = requests.get(url)\n",
        "    filename = url.split('/')[-1]  # Extract filename from URL\n",
        "    with open(filename, 'wb') as f:\n",
        "      f.write(response.content)\n",
        "\n",
        "pdf_urls = pdf_urls_string.splitlines()  # Split string into list\n",
        "download_pdfs(pdf_urls)\n"
      ],
      "metadata": {
        "id": "CornsGwikcqg"
      },
      "execution_count": null,
      "outputs": []
    },
    {
      "cell_type": "code",
      "source": [
        "from PyPDF2 import PdfReader\n",
        "\n",
        "def extract_pdf_text(pdf_path):\n",
        "  \"\"\"Extracts text content from a PDF file.\"\"\"\n",
        "  with open(pdf_path, 'rb') as pdf_file:\n",
        "    pdf_reader = PdfReader(pdf_file)\n",
        "    text = \"\"\n",
        "    for page in pdf_reader.pages:\n",
        "      text += page.extract_text()\n",
        "  return text\n",
        "\n",
        "# Assuming a downloaded PDF named 'ihm-bee.pdf'\n",
        "pdf_text = extract_pdf_text('ihm-bee.pdf')\n",
        "# Process or analyze the extracted text (pdf_text)\n"
      ],
      "metadata": {
        "id": "HAFImZ2_kwgV"
      },
      "execution_count": null,
      "outputs": []
    },
    {
      "cell_type": "code",
      "source": [
        "import os\n",
        "from PyPDF2 import PdfReader\n",
        "from google.colab import drive\n",
        "\n",
        "# Mount Google Drive\n",
        "drive.mount('/content/drive')\n",
        "\n",
        "# Define the source directory containing the PDF files\n",
        "source_directory = '/content/'\n",
        "\n",
        "# Define the destination directory in Google Drive\n",
        "destination_directory = '/content/drive/MyDrive/TXT_Files/'\n",
        "\n",
        "# Create the destination directory if it doesn't exist\n",
        "os.makedirs(destination_directory, exist_ok=True)\n",
        "\n",
        "# Iterate over all files in the source directory\n",
        "for filename in os.listdir(source_directory):\n",
        "    if filename.endswith('.pdf'):  # Check if the file is a PDF file\n",
        "        # Open the PDF file\n",
        "        with open(os.path.join(source_directory, filename), 'rb') as pdf_file:\n",
        "            pdf_reader = PdfReader(pdf_file)\n",
        "            # Extract text from each page of the PDF file\n",
        "            text = ''\n",
        "            for page in pdf_reader.pages:\n",
        "                text += page.extract_text()\n",
        "\n",
        "        # Define the destination TXT file path\n",
        "        txt_filename = os.path.splitext(filename)[0] + '.txt'\n",
        "        txt_file_path = os.path.join(destination_directory, txt_filename)\n",
        "\n",
        "        # Write the extracted text to the TXT file\n",
        "        with open(txt_file_path, 'w') as txt_file:\n",
        "            txt_file.write(text)\n",
        "\n",
        "        print(f\"PDF file '{filename}' converted and saved as TXT file '{txt_filename}'.\")\n",
        "\n",
        "print(\"All PDF files converted and saved as TXT files to Google Drive.\")\n"
      ],
      "metadata": {
        "id": "GAUDC-lvk93h",
        "colab": {
          "base_uri": "https://localhost:8080/",
          "height": 1000
        },
        "outputId": "798d4bd7-ac44-4cd7-fe69-a9d9bbd1fa8e"
      },
      "execution_count": 40,
      "outputs": [
        {
          "output_type": "stream",
          "name": "stdout",
          "text": [
            "Drive already mounted at /content/drive; to attempt to forcibly remount, call drive.mount(\"/content/drive\", force_remount=True).\n",
            "PDF file 'manure-mgt.pdf' converted and saved as TXT file 'manure-mgt.txt'.\n",
            "PDF file 'ReducingConflict_WLA-Guide_low-res-1.pdf' converted and saved as TXT file 'ReducingConflict_WLA-Guide_low-res-1.txt'.\n",
            "PDF file 'Extension-Education-Wilson-Blackfoot-Challenge.pdf' converted and saved as TXT file 'Extension-Education-Wilson-Blackfoot-Challenge.txt'.\n",
            "PDF file 'xcm178.pdf' converted and saved as TXT file 'xcm178.txt'.\n",
            "PDF file '09377.pdf' converted and saved as TXT file '09377.txt'.\n",
            "PDF file 'Avian-Health-Deliverable-Draft98.pdf' converted and saved as TXT file 'Avian-Health-Deliverable-Draft98.txt'.\n",
            "PDF file 'carcus-mgt.pdf' converted and saved as TXT file 'carcus-mgt.txt'.\n",
            "PDF file 'FrontRangeSm.pdf' converted and saved as TXT file 'FrontRangeSm.txt'.\n",
            "PDF file 'WolfResourcesGuide.pdf' converted and saved as TXT file 'WolfResourcesGuide.txt'.\n",
            "PDF file 'PrairieSm.pdf' converted and saved as TXT file 'PrairieSm.txt'.\n",
            "PDF file 'Submittal-Form-for-Water-Fillable.pdf' converted and saved as TXT file 'Submittal-Form-for-Water-Fillable.txt'.\n",
            "PDF file 'BeginnerBeeFieldGuide_LowRezWeb_28Feb2022.pdf' converted and saved as TXT file 'BeginnerBeeFieldGuide_LowRezWeb_28Feb2022.txt'.\n",
            "PDF file 'Extension-Education-Hoag-Economic-value-of-wolves.pdf' converted and saved as TXT file 'Extension-Education-Hoag-Economic-value-of-wolves.txt'.\n",
            "PDF file 'SE.pdf' converted and saved as TXT file 'SE.txt'.\n",
            "PDF file 'Review-of-livestock-compensation-programs-052620.pdf' converted and saved as TXT file 'Review-of-livestock-compensation-programs-052620.txt'.\n",
            "PDF file '09341.pdf' converted and saved as TXT file '09341.txt'.\n",
            "PDF file 'Soil-Submittal-Form-for-Horticulture-Fillable.pdf' converted and saved as TXT file 'Soil-Submittal-Form-for-Horticulture-Fillable.txt'.\n",
            "PDF file 'FladryManual.pdf' converted and saved as TXT file 'FladryManual.txt'.\n",
            "PDF file 'FactSheet_E-Colorado-Grassland-Birds-Grazing_12-2022.pdf' converted and saved as TXT file 'FactSheet_E-Colorado-Grassland-Birds-Grazing_12-2022.txt'.\n",
            "PDF file 'Composting-Manual-2023_Web-FINAL.pdf' converted and saved as TXT file 'Composting-Manual-2023_Web-FINAL.txt'.\n",
            "PDF file '09386.pdf' converted and saved as TXT file '09386.txt'.\n",
            "PDF file '09329.pdf' converted and saved as TXT file '09329.txt'.\n",
            "PDF file 'Extension-Education-Vail-Rocky-Mt-Wolf-Project.pdf' converted and saved as TXT file 'Extension-Education-Vail-Rocky-Mt-Wolf-Project.txt'.\n",
            "PDF file 'A-Wyoming-Landowners-Handbook-to-Fences-and-Wildlife_2nd-Edition_-lo-res.pdf' converted and saved as TXT file 'A-Wyoming-Landowners-Handbook-to-Fences-and-Wildlife_2nd-Edition_-lo-res.txt'.\n",
            "PDF file 'WestSlope.pdf' converted and saved as TXT file 'WestSlope.txt'.\n",
            "PDF file 'WestSlopeSm.pdf' converted and saved as TXT file 'WestSlopeSm.txt'.\n",
            "PDF file 'Extension-Education-Stanko-Rancher-Community-dialogs.pdf' converted and saved as TXT file 'Extension-Education-Stanko-Rancher-Community-dialogs.txt'.\n",
            "PDF file '09367.pdf' converted and saved as TXT file '09367.txt'.\n",
            "PDF file 'Extension-Education-Collins-WLA_WWC_4Cs.pdf' converted and saved as TXT file 'Extension-Education-Collins-WLA_WWC_4Cs.txt'.\n",
            "PDF file 'soilsample_horticulture.pdf' converted and saved as TXT file 'soilsample_horticulture.txt'.\n",
            "PDF file 'Extension-Education-Collins-WLA_RCPP_Extension.pdf' converted and saved as TXT file 'Extension-Education-Collins-WLA_RCPP_Extension.txt'.\n",
            "PDF file 'livestock_and_wolves.pdf' converted and saved as TXT file 'livestock_and_wolves.txt'.\n",
            "PDF file 'Tool-Kit-Grizzly-Bear-Conflict-Reduction-2017.pdf' converted and saved as TXT file 'Tool-Kit-Grizzly-Bear-Conflict-Reduction-2017.txt'.\n",
            "PDF file 'PC-Tool-Resource-Guide.pdf' converted and saved as TXT file 'PC-Tool-Resource-Guide.txt'.\n",
            "PDF file 'Wilson-et-al.-2017-Learning-to-live-with-wolves-Blackfoot-Valley.pdf' converted and saved as TXT file 'Wilson-et-al.-2017-Learning-to-live-with-wolves-Blackfoot-Valley.txt'.\n",
            "PDF file '09318.pdf' converted and saved as TXT file '09318.txt'.\n",
            "PDF file '07001.pdf' converted and saved as TXT file '07001.txt'.\n",
            "PDF file 'Defenders-of-Wildlife-Conflict-Reduction.pdf' converted and saved as TXT file 'Defenders-of-Wildlife-Conflict-Reduction.txt'.\n",
            "PDF file 'Forage_online_submittal_form.pdf' converted and saved as TXT file 'Forage_online_submittal_form.txt'.\n",
            "PDF file 'Extension-Education-CPW-Wolf-Livestock-Compensation.pdf' converted and saved as TXT file 'Extension-Education-CPW-Wolf-Livestock-Compensation.txt'.\n",
            "PDF file 'sam-irr-guide.pdf' converted and saved as TXT file 'sam-irr-guide.txt'.\n",
            "PDF file 'MF3523.pdf' converted and saved as TXT file 'MF3523.txt'.\n",
            "PDF file 'SESm.pdf' converted and saved as TXT file 'SESm.txt'.\n",
            "PDF file 'Extension-Education-Breck-Wolf-behavior-and-mgt.pdf' converted and saved as TXT file 'Extension-Education-Breck-Wolf-behavior-and-mgt.txt'.\n",
            "PDF file 'Prairie.pdf' converted and saved as TXT file 'Prairie.txt'.\n",
            "PDF file 'bro-livestock-protection-dog-public.pdf' converted and saved as TXT file 'bro-livestock-protection-dog-public.txt'.\n",
            "PDF file 'Mountains.pdf' converted and saved as TXT file 'Mountains.txt'.\n",
            "PDF file 'Fire-Blight_2.907-2__OConnor-Zentz_10-22.pdf' converted and saved as TXT file 'Fire-Blight_2.907-2__OConnor-Zentz_10-22.txt'.\n",
            "PDF file 'Roasting-Chile-Peppers.pdf' converted and saved as TXT file 'Roasting-Chile-Peppers.txt'.\n",
            "PDF file 'sources-native-plants-2022.pdf' converted and saved as TXT file 'sources-native-plants-2022.txt'.\n",
            "PDF file 'FrontRange.pdf' converted and saved as TXT file 'FrontRange.txt'.\n",
            "PDF file 'xcm221.pdf' converted and saved as TXT file 'xcm221.txt'.\n",
            "PDF file 'ihm-bee.pdf' converted and saved as TXT file 'ihm-bee.txt'.\n",
            "PDF file 'Extension-Education-Gary-Cattle-records.pdf' converted and saved as TXT file 'Extension-Education-Gary-Cattle-records.txt'.\n",
            "PDF file '09334.pdf' converted and saved as TXT file '09334.txt'.\n",
            "PDF file 'xcm179.pdf' converted and saved as TXT file 'xcm179.txt'.\n",
            "PDF file 'LivestockManagementintheMountains2017.pdf' converted and saved as TXT file 'LivestockManagementintheMountains2017.txt'.\n",
            "PDF file 'Dead-Bird-Now-What-Infographic-w-Check-List1.pdf' converted and saved as TXT file 'Dead-Bird-Now-What-Infographic-w-Check-List1.txt'.\n",
            "PDF file 'forage-guide.pdf' converted and saved as TXT file 'forage-guide.txt'.\n"
          ]
        },
        {
          "output_type": "error",
          "ename": "DependencyError",
          "evalue": "PyCryptodome is required for AES algorithm",
          "traceback": [
            "\u001b[0;31m---------------------------------------------------------------------------\u001b[0m",
            "\u001b[0;31mDependencyError\u001b[0m                           Traceback (most recent call last)",
            "\u001b[0;32m<ipython-input-40-ce267a8c92dc>\u001b[0m in \u001b[0;36m<cell line: 18>\u001b[0;34m()\u001b[0m\n\u001b[1;32m     23\u001b[0m             \u001b[0;31m# Extract text from each page of the PDF file\u001b[0m\u001b[0;34m\u001b[0m\u001b[0;34m\u001b[0m\u001b[0m\n\u001b[1;32m     24\u001b[0m             \u001b[0mtext\u001b[0m \u001b[0;34m=\u001b[0m \u001b[0;34m''\u001b[0m\u001b[0;34m\u001b[0m\u001b[0;34m\u001b[0m\u001b[0m\n\u001b[0;32m---> 25\u001b[0;31m             \u001b[0;32mfor\u001b[0m \u001b[0mpage\u001b[0m \u001b[0;32min\u001b[0m \u001b[0mpdf_reader\u001b[0m\u001b[0;34m.\u001b[0m\u001b[0mpages\u001b[0m\u001b[0;34m:\u001b[0m\u001b[0;34m\u001b[0m\u001b[0;34m\u001b[0m\u001b[0m\n\u001b[0m\u001b[1;32m     26\u001b[0m                 \u001b[0mtext\u001b[0m \u001b[0;34m+=\u001b[0m \u001b[0mpage\u001b[0m\u001b[0;34m.\u001b[0m\u001b[0mextract_text\u001b[0m\u001b[0;34m(\u001b[0m\u001b[0;34m)\u001b[0m\u001b[0;34m\u001b[0m\u001b[0;34m\u001b[0m\u001b[0m\n\u001b[1;32m     27\u001b[0m \u001b[0;34m\u001b[0m\u001b[0m\n",
            "\u001b[0;32m/usr/local/lib/python3.10/dist-packages/PyPDF2/_page.py\u001b[0m in \u001b[0;36m__iter__\u001b[0;34m(self)\u001b[0m\n\u001b[1;32m   2079\u001b[0m \u001b[0;34m\u001b[0m\u001b[0m\n\u001b[1;32m   2080\u001b[0m     \u001b[0;32mdef\u001b[0m \u001b[0m__iter__\u001b[0m\u001b[0;34m(\u001b[0m\u001b[0mself\u001b[0m\u001b[0;34m)\u001b[0m \u001b[0;34m->\u001b[0m \u001b[0mIterator\u001b[0m\u001b[0;34m[\u001b[0m\u001b[0mPageObject\u001b[0m\u001b[0;34m]\u001b[0m\u001b[0;34m:\u001b[0m\u001b[0;34m\u001b[0m\u001b[0;34m\u001b[0m\u001b[0m\n\u001b[0;32m-> 2081\u001b[0;31m         \u001b[0;32mfor\u001b[0m \u001b[0mi\u001b[0m \u001b[0;32min\u001b[0m \u001b[0mrange\u001b[0m\u001b[0;34m(\u001b[0m\u001b[0mlen\u001b[0m\u001b[0;34m(\u001b[0m\u001b[0mself\u001b[0m\u001b[0;34m)\u001b[0m\u001b[0;34m)\u001b[0m\u001b[0;34m:\u001b[0m\u001b[0;34m\u001b[0m\u001b[0;34m\u001b[0m\u001b[0m\n\u001b[0m\u001b[1;32m   2082\u001b[0m             \u001b[0;32myield\u001b[0m \u001b[0mself\u001b[0m\u001b[0;34m[\u001b[0m\u001b[0mi\u001b[0m\u001b[0;34m]\u001b[0m\u001b[0;34m\u001b[0m\u001b[0;34m\u001b[0m\u001b[0m\n\u001b[1;32m   2083\u001b[0m \u001b[0;34m\u001b[0m\u001b[0m\n",
            "\u001b[0;32m/usr/local/lib/python3.10/dist-packages/PyPDF2/_page.py\u001b[0m in \u001b[0;36m__len__\u001b[0;34m(self)\u001b[0m\n\u001b[1;32m   2061\u001b[0m \u001b[0;34m\u001b[0m\u001b[0m\n\u001b[1;32m   2062\u001b[0m     \u001b[0;32mdef\u001b[0m \u001b[0m__len__\u001b[0m\u001b[0;34m(\u001b[0m\u001b[0mself\u001b[0m\u001b[0;34m)\u001b[0m \u001b[0;34m->\u001b[0m \u001b[0mint\u001b[0m\u001b[0;34m:\u001b[0m\u001b[0;34m\u001b[0m\u001b[0;34m\u001b[0m\u001b[0m\n\u001b[0;32m-> 2063\u001b[0;31m         \u001b[0;32mreturn\u001b[0m \u001b[0mself\u001b[0m\u001b[0;34m.\u001b[0m\u001b[0mlength_function\u001b[0m\u001b[0;34m(\u001b[0m\u001b[0;34m)\u001b[0m\u001b[0;34m\u001b[0m\u001b[0;34m\u001b[0m\u001b[0m\n\u001b[0m\u001b[1;32m   2064\u001b[0m \u001b[0;34m\u001b[0m\u001b[0m\n\u001b[1;32m   2065\u001b[0m     \u001b[0;32mdef\u001b[0m \u001b[0m__getitem__\u001b[0m\u001b[0;34m(\u001b[0m\u001b[0mself\u001b[0m\u001b[0;34m,\u001b[0m \u001b[0mindex\u001b[0m\u001b[0;34m:\u001b[0m \u001b[0mint\u001b[0m\u001b[0;34m)\u001b[0m \u001b[0;34m->\u001b[0m \u001b[0mPageObject\u001b[0m\u001b[0;34m:\u001b[0m\u001b[0;34m\u001b[0m\u001b[0;34m\u001b[0m\u001b[0m\n",
            "\u001b[0;32m/usr/local/lib/python3.10/dist-packages/PyPDF2/_reader.py\u001b[0m in \u001b[0;36m_get_num_pages\u001b[0;34m(self)\u001b[0m\n\u001b[1;32m    443\u001b[0m         \u001b[0;31m# the original method (flattened page count) is used.\u001b[0m\u001b[0;34m\u001b[0m\u001b[0;34m\u001b[0m\u001b[0m\n\u001b[1;32m    444\u001b[0m         \u001b[0;32mif\u001b[0m \u001b[0mself\u001b[0m\u001b[0;34m.\u001b[0m\u001b[0mis_encrypted\u001b[0m\u001b[0;34m:\u001b[0m\u001b[0;34m\u001b[0m\u001b[0;34m\u001b[0m\u001b[0m\n\u001b[0;32m--> 445\u001b[0;31m             \u001b[0;32mreturn\u001b[0m \u001b[0mself\u001b[0m\u001b[0;34m.\u001b[0m\u001b[0mtrailer\u001b[0m\u001b[0;34m[\u001b[0m\u001b[0mTK\u001b[0m\u001b[0;34m.\u001b[0m\u001b[0mROOT\u001b[0m\u001b[0;34m]\u001b[0m\u001b[0;34m[\u001b[0m\u001b[0;34m\"/Pages\"\u001b[0m\u001b[0;34m]\u001b[0m\u001b[0;34m[\u001b[0m\u001b[0;34m\"/Count\"\u001b[0m\u001b[0;34m]\u001b[0m  \u001b[0;31m# type: ignore\u001b[0m\u001b[0;34m\u001b[0m\u001b[0;34m\u001b[0m\u001b[0m\n\u001b[0m\u001b[1;32m    446\u001b[0m         \u001b[0;32melse\u001b[0m\u001b[0;34m:\u001b[0m\u001b[0;34m\u001b[0m\u001b[0;34m\u001b[0m\u001b[0m\n\u001b[1;32m    447\u001b[0m             \u001b[0;32mif\u001b[0m \u001b[0mself\u001b[0m\u001b[0;34m.\u001b[0m\u001b[0mflattened_pages\u001b[0m \u001b[0;32mis\u001b[0m \u001b[0;32mNone\u001b[0m\u001b[0;34m:\u001b[0m\u001b[0;34m\u001b[0m\u001b[0;34m\u001b[0m\u001b[0m\n",
            "\u001b[0;32m/usr/local/lib/python3.10/dist-packages/PyPDF2/generic/_data_structures.py\u001b[0m in \u001b[0;36m__getitem__\u001b[0;34m(self, key)\u001b[0m\n\u001b[1;32m    264\u001b[0m \u001b[0;34m\u001b[0m\u001b[0m\n\u001b[1;32m    265\u001b[0m     \u001b[0;32mdef\u001b[0m \u001b[0m__getitem__\u001b[0m\u001b[0;34m(\u001b[0m\u001b[0mself\u001b[0m\u001b[0;34m,\u001b[0m \u001b[0mkey\u001b[0m\u001b[0;34m:\u001b[0m \u001b[0mAny\u001b[0m\u001b[0;34m)\u001b[0m \u001b[0;34m->\u001b[0m \u001b[0mPdfObject\u001b[0m\u001b[0;34m:\u001b[0m\u001b[0;34m\u001b[0m\u001b[0;34m\u001b[0m\u001b[0m\n\u001b[0;32m--> 266\u001b[0;31m         \u001b[0;32mreturn\u001b[0m \u001b[0mdict\u001b[0m\u001b[0;34m.\u001b[0m\u001b[0m__getitem__\u001b[0m\u001b[0;34m(\u001b[0m\u001b[0mself\u001b[0m\u001b[0;34m,\u001b[0m \u001b[0mkey\u001b[0m\u001b[0;34m)\u001b[0m\u001b[0;34m.\u001b[0m\u001b[0mget_object\u001b[0m\u001b[0;34m(\u001b[0m\u001b[0;34m)\u001b[0m\u001b[0;34m\u001b[0m\u001b[0;34m\u001b[0m\u001b[0m\n\u001b[0m\u001b[1;32m    267\u001b[0m \u001b[0;34m\u001b[0m\u001b[0m\n\u001b[1;32m    268\u001b[0m     \u001b[0;34m@\u001b[0m\u001b[0mproperty\u001b[0m\u001b[0;34m\u001b[0m\u001b[0;34m\u001b[0m\u001b[0m\n",
            "\u001b[0;32m/usr/local/lib/python3.10/dist-packages/PyPDF2/generic/_base.py\u001b[0m in \u001b[0;36mget_object\u001b[0;34m(self)\u001b[0m\n\u001b[1;32m    257\u001b[0m \u001b[0;34m\u001b[0m\u001b[0m\n\u001b[1;32m    258\u001b[0m     \u001b[0;32mdef\u001b[0m \u001b[0mget_object\u001b[0m\u001b[0;34m(\u001b[0m\u001b[0mself\u001b[0m\u001b[0;34m)\u001b[0m \u001b[0;34m->\u001b[0m \u001b[0mOptional\u001b[0m\u001b[0;34m[\u001b[0m\u001b[0;34m\"PdfObject\"\u001b[0m\u001b[0;34m]\u001b[0m\u001b[0;34m:\u001b[0m\u001b[0;34m\u001b[0m\u001b[0;34m\u001b[0m\u001b[0m\n\u001b[0;32m--> 259\u001b[0;31m         \u001b[0mobj\u001b[0m \u001b[0;34m=\u001b[0m \u001b[0mself\u001b[0m\u001b[0;34m.\u001b[0m\u001b[0mpdf\u001b[0m\u001b[0;34m.\u001b[0m\u001b[0mget_object\u001b[0m\u001b[0;34m(\u001b[0m\u001b[0mself\u001b[0m\u001b[0;34m)\u001b[0m\u001b[0;34m\u001b[0m\u001b[0;34m\u001b[0m\u001b[0m\n\u001b[0m\u001b[1;32m    260\u001b[0m         \u001b[0;32mif\u001b[0m \u001b[0mobj\u001b[0m \u001b[0;32mis\u001b[0m \u001b[0;32mNone\u001b[0m\u001b[0;34m:\u001b[0m\u001b[0;34m\u001b[0m\u001b[0;34m\u001b[0m\u001b[0m\n\u001b[1;32m    261\u001b[0m             \u001b[0;32mreturn\u001b[0m \u001b[0;32mNone\u001b[0m\u001b[0;34m\u001b[0m\u001b[0;34m\u001b[0m\u001b[0m\n",
            "\u001b[0;32m/usr/local/lib/python3.10/dist-packages/PyPDF2/_reader.py\u001b[0m in \u001b[0;36mget_object\u001b[0;34m(self, indirect_reference)\u001b[0m\n\u001b[1;32m   1267\u001b[0m                 \u001b[0;31m# otherwise, decrypt here...\u001b[0m\u001b[0;34m\u001b[0m\u001b[0;34m\u001b[0m\u001b[0m\n\u001b[1;32m   1268\u001b[0m                 \u001b[0mretval\u001b[0m \u001b[0;34m=\u001b[0m \u001b[0mcast\u001b[0m\u001b[0;34m(\u001b[0m\u001b[0mPdfObject\u001b[0m\u001b[0;34m,\u001b[0m \u001b[0mretval\u001b[0m\u001b[0;34m)\u001b[0m\u001b[0;34m\u001b[0m\u001b[0;34m\u001b[0m\u001b[0m\n\u001b[0;32m-> 1269\u001b[0;31m                 retval = self._encryption.decrypt_object(\n\u001b[0m\u001b[1;32m   1270\u001b[0m                     \u001b[0mretval\u001b[0m\u001b[0;34m,\u001b[0m \u001b[0mindirect_reference\u001b[0m\u001b[0;34m.\u001b[0m\u001b[0midnum\u001b[0m\u001b[0;34m,\u001b[0m \u001b[0mindirect_reference\u001b[0m\u001b[0;34m.\u001b[0m\u001b[0mgeneration\u001b[0m\u001b[0;34m\u001b[0m\u001b[0;34m\u001b[0m\u001b[0m\n\u001b[1;32m   1271\u001b[0m                 )\n",
            "\u001b[0;32m/usr/local/lib/python3.10/dist-packages/PyPDF2/_encryption.py\u001b[0m in \u001b[0;36mdecrypt_object\u001b[0;34m(self, obj, idnum, generation)\u001b[0m\n\u001b[1;32m    759\u001b[0m \u001b[0;34m\u001b[0m\u001b[0m\n\u001b[1;32m    760\u001b[0m         \u001b[0mcf\u001b[0m \u001b[0;34m=\u001b[0m \u001b[0mCryptFilter\u001b[0m\u001b[0;34m(\u001b[0m\u001b[0mstmCrypt\u001b[0m\u001b[0;34m,\u001b[0m \u001b[0mStrCrypt\u001b[0m\u001b[0;34m,\u001b[0m \u001b[0mefCrypt\u001b[0m\u001b[0;34m)\u001b[0m\u001b[0;34m\u001b[0m\u001b[0;34m\u001b[0m\u001b[0m\n\u001b[0;32m--> 761\u001b[0;31m         \u001b[0;32mreturn\u001b[0m \u001b[0mcf\u001b[0m\u001b[0;34m.\u001b[0m\u001b[0mdecrypt_object\u001b[0m\u001b[0;34m(\u001b[0m\u001b[0mobj\u001b[0m\u001b[0;34m)\u001b[0m\u001b[0;34m\u001b[0m\u001b[0;34m\u001b[0m\u001b[0m\n\u001b[0m\u001b[1;32m    762\u001b[0m \u001b[0;34m\u001b[0m\u001b[0m\n\u001b[1;32m    763\u001b[0m     \u001b[0;34m@\u001b[0m\u001b[0mstaticmethod\u001b[0m\u001b[0;34m\u001b[0m\u001b[0;34m\u001b[0m\u001b[0m\n",
            "\u001b[0;32m/usr/local/lib/python3.10/dist-packages/PyPDF2/_encryption.py\u001b[0m in \u001b[0;36mdecrypt_object\u001b[0;34m(self, obj)\u001b[0m\n\u001b[1;32m    186\u001b[0m         \u001b[0;32melif\u001b[0m \u001b[0misinstance\u001b[0m\u001b[0;34m(\u001b[0m\u001b[0mobj\u001b[0m\u001b[0;34m,\u001b[0m \u001b[0mDictionaryObject\u001b[0m\u001b[0;34m)\u001b[0m\u001b[0;34m:\u001b[0m\u001b[0;34m\u001b[0m\u001b[0;34m\u001b[0m\u001b[0m\n\u001b[1;32m    187\u001b[0m             \u001b[0;32mfor\u001b[0m \u001b[0mdictkey\u001b[0m\u001b[0;34m,\u001b[0m \u001b[0mvalue\u001b[0m \u001b[0;32min\u001b[0m \u001b[0mlist\u001b[0m\u001b[0;34m(\u001b[0m\u001b[0mobj\u001b[0m\u001b[0;34m.\u001b[0m\u001b[0mitems\u001b[0m\u001b[0;34m(\u001b[0m\u001b[0;34m)\u001b[0m\u001b[0;34m)\u001b[0m\u001b[0;34m:\u001b[0m\u001b[0;34m\u001b[0m\u001b[0;34m\u001b[0m\u001b[0m\n\u001b[0;32m--> 188\u001b[0;31m                 \u001b[0mobj\u001b[0m\u001b[0;34m[\u001b[0m\u001b[0mdictkey\u001b[0m\u001b[0;34m]\u001b[0m \u001b[0;34m=\u001b[0m \u001b[0mself\u001b[0m\u001b[0;34m.\u001b[0m\u001b[0mdecrypt_object\u001b[0m\u001b[0;34m(\u001b[0m\u001b[0mvalue\u001b[0m\u001b[0;34m)\u001b[0m\u001b[0;34m\u001b[0m\u001b[0;34m\u001b[0m\u001b[0m\n\u001b[0m\u001b[1;32m    189\u001b[0m         \u001b[0;32melif\u001b[0m \u001b[0misinstance\u001b[0m\u001b[0;34m(\u001b[0m\u001b[0mobj\u001b[0m\u001b[0;34m,\u001b[0m \u001b[0mArrayObject\u001b[0m\u001b[0;34m)\u001b[0m\u001b[0;34m:\u001b[0m\u001b[0;34m\u001b[0m\u001b[0;34m\u001b[0m\u001b[0m\n\u001b[1;32m    190\u001b[0m             \u001b[0;32mfor\u001b[0m \u001b[0mi\u001b[0m \u001b[0;32min\u001b[0m \u001b[0mrange\u001b[0m\u001b[0;34m(\u001b[0m\u001b[0mlen\u001b[0m\u001b[0;34m(\u001b[0m\u001b[0mobj\u001b[0m\u001b[0;34m)\u001b[0m\u001b[0;34m)\u001b[0m\u001b[0;34m:\u001b[0m\u001b[0;34m\u001b[0m\u001b[0;34m\u001b[0m\u001b[0m\n",
            "\u001b[0;32m/usr/local/lib/python3.10/dist-packages/PyPDF2/_encryption.py\u001b[0m in \u001b[0;36mdecrypt_object\u001b[0;34m(self, obj)\u001b[0m\n\u001b[1;32m    180\u001b[0m     \u001b[0;32mdef\u001b[0m \u001b[0mdecrypt_object\u001b[0m\u001b[0;34m(\u001b[0m\u001b[0mself\u001b[0m\u001b[0;34m,\u001b[0m \u001b[0mobj\u001b[0m\u001b[0;34m:\u001b[0m \u001b[0mPdfObject\u001b[0m\u001b[0;34m)\u001b[0m \u001b[0;34m->\u001b[0m \u001b[0mPdfObject\u001b[0m\u001b[0;34m:\u001b[0m\u001b[0;34m\u001b[0m\u001b[0;34m\u001b[0m\u001b[0m\n\u001b[1;32m    181\u001b[0m         \u001b[0;32mif\u001b[0m \u001b[0misinstance\u001b[0m\u001b[0;34m(\u001b[0m\u001b[0mobj\u001b[0m\u001b[0;34m,\u001b[0m \u001b[0;34m(\u001b[0m\u001b[0mByteStringObject\u001b[0m\u001b[0;34m,\u001b[0m \u001b[0mTextStringObject\u001b[0m\u001b[0;34m)\u001b[0m\u001b[0;34m)\u001b[0m\u001b[0;34m:\u001b[0m\u001b[0;34m\u001b[0m\u001b[0;34m\u001b[0m\u001b[0m\n\u001b[0;32m--> 182\u001b[0;31m             \u001b[0mdata\u001b[0m \u001b[0;34m=\u001b[0m \u001b[0mself\u001b[0m\u001b[0;34m.\u001b[0m\u001b[0mstrCrypt\u001b[0m\u001b[0;34m.\u001b[0m\u001b[0mdecrypt\u001b[0m\u001b[0;34m(\u001b[0m\u001b[0mobj\u001b[0m\u001b[0;34m.\u001b[0m\u001b[0moriginal_bytes\u001b[0m\u001b[0;34m)\u001b[0m\u001b[0;34m\u001b[0m\u001b[0;34m\u001b[0m\u001b[0m\n\u001b[0m\u001b[1;32m    183\u001b[0m             \u001b[0mobj\u001b[0m \u001b[0;34m=\u001b[0m \u001b[0mcreate_string_object\u001b[0m\u001b[0;34m(\u001b[0m\u001b[0mdata\u001b[0m\u001b[0;34m)\u001b[0m\u001b[0;34m\u001b[0m\u001b[0;34m\u001b[0m\u001b[0m\n\u001b[1;32m    184\u001b[0m         \u001b[0;32melif\u001b[0m \u001b[0misinstance\u001b[0m\u001b[0;34m(\u001b[0m\u001b[0mobj\u001b[0m\u001b[0;34m,\u001b[0m \u001b[0mStreamObject\u001b[0m\u001b[0;34m)\u001b[0m\u001b[0;34m:\u001b[0m\u001b[0;34m\u001b[0m\u001b[0;34m\u001b[0m\u001b[0m\n",
            "\u001b[0;32m/usr/local/lib/python3.10/dist-packages/PyPDF2/_encryption.py\u001b[0m in \u001b[0;36mdecrypt\u001b[0;34m(self, data)\u001b[0m\n\u001b[1;32m    145\u001b[0m \u001b[0;34m\u001b[0m\u001b[0m\n\u001b[1;32m    146\u001b[0m         \u001b[0;32mdef\u001b[0m \u001b[0mdecrypt\u001b[0m\u001b[0;34m(\u001b[0m\u001b[0mself\u001b[0m\u001b[0;34m,\u001b[0m \u001b[0mdata\u001b[0m\u001b[0;34m:\u001b[0m \u001b[0mbytes\u001b[0m\u001b[0;34m)\u001b[0m \u001b[0;34m->\u001b[0m \u001b[0mbytes\u001b[0m\u001b[0;34m:\u001b[0m\u001b[0;34m\u001b[0m\u001b[0;34m\u001b[0m\u001b[0m\n\u001b[0;32m--> 147\u001b[0;31m             \u001b[0;32mraise\u001b[0m \u001b[0mDependencyError\u001b[0m\u001b[0;34m(\u001b[0m\u001b[0;34m\"PyCryptodome is required for AES algorithm\"\u001b[0m\u001b[0;34m)\u001b[0m\u001b[0;34m\u001b[0m\u001b[0;34m\u001b[0m\u001b[0m\n\u001b[0m\u001b[1;32m    148\u001b[0m \u001b[0;34m\u001b[0m\u001b[0m\n\u001b[1;32m    149\u001b[0m     \u001b[0;32mdef\u001b[0m \u001b[0mRC4_encrypt\u001b[0m\u001b[0;34m(\u001b[0m\u001b[0mkey\u001b[0m\u001b[0;34m:\u001b[0m \u001b[0mbytes\u001b[0m\u001b[0;34m,\u001b[0m \u001b[0mdata\u001b[0m\u001b[0;34m:\u001b[0m \u001b[0mbytes\u001b[0m\u001b[0;34m)\u001b[0m \u001b[0;34m->\u001b[0m \u001b[0mbytes\u001b[0m\u001b[0;34m:\u001b[0m\u001b[0;34m\u001b[0m\u001b[0;34m\u001b[0m\u001b[0m\n",
            "\u001b[0;31mDependencyError\u001b[0m: PyCryptodome is required for AES algorithm"
          ]
        }
      ]
    },
    {
      "cell_type": "code",
      "source": [
        "from collections import Counter  # For counting keyword occurrences\n",
        "\n",
        "def analyze_keywords(text, top_n=10):\n",
        "  \"\"\"Analyzes keywords in the text and prints the top 'top_n'.\"\"\"\n",
        "  words = [word.lower() for word in text.split() if word.isalnum()]  # Preprocess text (lowercase, alphanumeric)\n",
        "  keyword_counts = Counter(words)\n",
        "  top_keywords = keyword_counts.most_common(top_n)\n",
        "  print(\"Top\", top_n, \"Keywords:\")\n",
        "  for keyword, count in top_keywords:\n",
        "    print(f\"- '{keyword}': {count} occurrences\")\n",
        "\n",
        "analyze_keywords(ihm_bee_text)\n"
      ],
      "metadata": {
        "colab": {
          "base_uri": "https://localhost:8080/"
        },
        "id": "bq5xZy7DlAb6",
        "outputId": "b38bea1d-3f5a-401e-e967-91fb81e5b80e"
      },
      "execution_count": null,
      "outputs": [
        {
          "output_type": "stream",
          "name": "stdout",
          "text": [
            "Top 10 Keywords:\n",
            "- 'the': 724 occurrences\n",
            "- 'and': 434 occurrences\n",
            "- 'to': 412 occurrences\n",
            "- 'of': 348 occurrences\n",
            "- 'in': 282 occurrences\n",
            "- 'a': 253 occurrences\n",
            "- 'is': 193 occurrences\n",
            "- 'or': 153 occurrences\n",
            "- 'are': 151 occurrences\n",
            "- 'bees': 146 occurrences\n"
          ]
        }
      ]
    },
    {
      "cell_type": "code",
      "source": [
        "from google.colab import auth\n",
        "auth.authenticate_user()\n",
        "\n",
        "import gspread\n",
        "from google.auth import default\n",
        "creds, _ = default()\n",
        "\n",
        "gc = gspread.authorize(creds)\n",
        "\n",
        "sh = gc.create('A new spreadsheet')\n",
        "\n",
        "# Open our new sheet and add some data.\n",
        "worksheet = gc.open('A new spreadsheet').sheet1\n",
        "\n",
        "cell_list = worksheet.range('A1:C2')\n",
        "\n",
        "import random\n",
        "for cell in cell_list:\n",
        "  cell.value = random.randint(1, 10)\n",
        "\n",
        "worksheet.update_cells(cell_list)\n",
        "# Go to https://sheets.google.com to see your new spreadsheet."
      ],
      "metadata": {
        "colab": {
          "base_uri": "https://localhost:8080/"
        },
        "id": "nB1E0oUJVHoR",
        "outputId": "249ce70a-7620-41f6-ec74-3c3fb49bdf3a"
      },
      "execution_count": null,
      "outputs": [
        {
          "output_type": "execute_result",
          "data": {
            "text/plain": [
              "{'spreadsheetId': '1Tp-veBUjCwnzg_JwvVNwX-z_LhU_WZgIWluaGInWxks',\n",
              " 'updatedRange': 'Sheet1!A1:C2',\n",
              " 'updatedRows': 2,\n",
              " 'updatedColumns': 3,\n",
              " 'updatedCells': 6}"
            ]
          },
          "metadata": {},
          "execution_count": 13
        }
      ]
    },
    {
      "cell_type": "code",
      "source": [
        "!git clone https://github.com/cpatiffanynguyen/usda.git\n"
      ],
      "metadata": {
        "colab": {
          "base_uri": "https://localhost:8080/"
        },
        "id": "yEK9YZC6XEzY",
        "outputId": "6f05d8eb-1fcb-4e0d-b1a4-6befac824be7"
      },
      "execution_count": 49,
      "outputs": [
        {
          "output_type": "stream",
          "name": "stdout",
          "text": [
            "Cloning into 'usda'...\n",
            "remote: Enumerating objects: 23, done.\u001b[K\n",
            "remote: Counting objects: 100% (23/23), done.\u001b[K\n",
            "remote: Compressing objects: 100% (20/20), done.\u001b[K\n",
            "remote: Total 23 (delta 7), reused 0 (delta 0), pack-reused 0\u001b[K\n",
            "Receiving objects: 100% (23/23), 14.51 KiB | 14.51 MiB/s, done.\n",
            "Resolving deltas: 100% (7/7), done.\n"
          ]
        }
      ]
    },
    {
      "cell_type": "markdown",
      "source": [
        "After executing the cell above, a new file named 'Sample file.txt' will appear in your [drive.google.com](https://drive.google.com/) file list."
      ],
      "metadata": {
        "id": "sm8ByiEiVZpA"
      }
    }
  ]
}